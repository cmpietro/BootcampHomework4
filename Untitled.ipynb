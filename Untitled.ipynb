{
 "cells": [
  {
   "cell_type": "code",
   "execution_count": 83,
   "metadata": {},
   "outputs": [
    {
     "name": "stdout",
     "output_type": "stream",
     "text": [
      "DEPENDENCIES AND SETUP\n"
     ]
    }
   ],
   "source": [
    "print(\"DEPENDENCIES AND SETUP\") "
   ]
  },
  {
   "cell_type": "code",
   "execution_count": 59,
   "metadata": {},
   "outputs": [],
   "source": [
    "# Dependencies and Setup\n",
    "import pandas as pd\n",
    "import numpy as np\n",
    "import os\n",
    "import csv\n",
    "from IPython.display import HTML"
   ]
  },
  {
   "cell_type": "code",
   "execution_count": 95,
   "metadata": {},
   "outputs": [
    {
     "name": "stdout",
     "output_type": "stream",
     "text": [
      "LOAD CSV and DISPLAY\n"
     ]
    }
   ],
   "source": [
    "print(\"LOAD CSV and DISPLAY\")\n"
   ]
  },
  {
   "cell_type": "code",
   "execution_count": 93,
   "metadata": {},
   "outputs": [
    {
     "name": "stdout",
     "output_type": "stream",
     "text": [
      "purchase_data.csv\n"
     ]
    },
    {
     "data": {
      "text/html": [
       "<div>\n",
       "<style scoped>\n",
       "    .dataframe tbody tr th:only-of-type {\n",
       "        vertical-align: middle;\n",
       "    }\n",
       "\n",
       "    .dataframe tbody tr th {\n",
       "        vertical-align: top;\n",
       "    }\n",
       "\n",
       "    .dataframe thead th {\n",
       "        text-align: right;\n",
       "    }\n",
       "</style>\n",
       "<table border=\"1\" class=\"dataframe\">\n",
       "  <thead>\n",
       "    <tr style=\"text-align: right;\">\n",
       "      <th></th>\n",
       "      <th>Purchase ID</th>\n",
       "      <th>SN</th>\n",
       "      <th>Age</th>\n",
       "      <th>Gender</th>\n",
       "      <th>Item ID</th>\n",
       "      <th>Item Name</th>\n",
       "      <th>Price</th>\n",
       "    </tr>\n",
       "  </thead>\n",
       "  <tbody>\n",
       "    <tr>\n",
       "      <th>0</th>\n",
       "      <td>0</td>\n",
       "      <td>Lisim78</td>\n",
       "      <td>20</td>\n",
       "      <td>Male</td>\n",
       "      <td>108</td>\n",
       "      <td>Extraction, Quickblade Of Trembling Hands</td>\n",
       "      <td>3.53</td>\n",
       "    </tr>\n",
       "    <tr>\n",
       "      <th>1</th>\n",
       "      <td>1</td>\n",
       "      <td>Lisovynya38</td>\n",
       "      <td>40</td>\n",
       "      <td>Male</td>\n",
       "      <td>143</td>\n",
       "      <td>Frenzied Scimitar</td>\n",
       "      <td>1.56</td>\n",
       "    </tr>\n",
       "    <tr>\n",
       "      <th>2</th>\n",
       "      <td>2</td>\n",
       "      <td>Ithergue48</td>\n",
       "      <td>24</td>\n",
       "      <td>Male</td>\n",
       "      <td>92</td>\n",
       "      <td>Final Critic</td>\n",
       "      <td>4.88</td>\n",
       "    </tr>\n",
       "    <tr>\n",
       "      <th>3</th>\n",
       "      <td>3</td>\n",
       "      <td>Chamassasya86</td>\n",
       "      <td>24</td>\n",
       "      <td>Male</td>\n",
       "      <td>100</td>\n",
       "      <td>Blindscythe</td>\n",
       "      <td>3.27</td>\n",
       "    </tr>\n",
       "    <tr>\n",
       "      <th>4</th>\n",
       "      <td>4</td>\n",
       "      <td>Iskosia90</td>\n",
       "      <td>23</td>\n",
       "      <td>Male</td>\n",
       "      <td>131</td>\n",
       "      <td>Fury</td>\n",
       "      <td>1.44</td>\n",
       "    </tr>\n",
       "  </tbody>\n",
       "</table>\n",
       "</div>"
      ],
      "text/plain": [
       "   Purchase ID             SN  Age Gender  Item ID  \\\n",
       "0            0        Lisim78   20   Male      108   \n",
       "1            1    Lisovynya38   40   Male      143   \n",
       "2            2     Ithergue48   24   Male       92   \n",
       "3            3  Chamassasya86   24   Male      100   \n",
       "4            4      Iskosia90   23   Male      131   \n",
       "\n",
       "                                   Item Name  Price  \n",
       "0  Extraction, Quickblade Of Trembling Hands   3.53  \n",
       "1                          Frenzied Scimitar   1.56  \n",
       "2                               Final Critic   4.88  \n",
       "3                                Blindscythe   3.27  \n",
       "4                                       Fury   1.44  "
      ]
     },
     "execution_count": 93,
     "metadata": {},
     "output_type": "execute_result"
    }
   ],
   "source": [
    "# File to Load - CHANGE FILE PATH and INCLUDE os.path.join \n",
    "# file_to_load = \"Resources/purchase_data.csv\"\n",
    "csvpath = os.path.join(\"purchase_data.csv\")\n",
    "print(csvpath)\n",
    "\n",
    "\n",
    "# Read Purchasing File and store into Pandas data frame\n",
    "purchase_df = pd.read_csv(csvpath)\n",
    "purchase_df.head()"
   ]
  },
  {
   "cell_type": "code",
   "execution_count": 62,
   "metadata": {},
   "outputs": [
    {
     "data": {
      "text/html": [
       "<div>\n",
       "<style scoped>\n",
       "    .dataframe tbody tr th:only-of-type {\n",
       "        vertical-align: middle;\n",
       "    }\n",
       "\n",
       "    .dataframe tbody tr th {\n",
       "        vertical-align: top;\n",
       "    }\n",
       "\n",
       "    .dataframe thead th {\n",
       "        text-align: right;\n",
       "    }\n",
       "</style>\n",
       "<table border=\"1\" class=\"dataframe\">\n",
       "  <thead>\n",
       "    <tr style=\"text-align: right;\">\n",
       "      <th></th>\n",
       "      <th>Purchase ID</th>\n",
       "      <th>Age</th>\n",
       "      <th>Item ID</th>\n",
       "      <th>Price</th>\n",
       "    </tr>\n",
       "  </thead>\n",
       "  <tbody>\n",
       "    <tr>\n",
       "      <th>count</th>\n",
       "      <td>780.000000</td>\n",
       "      <td>780.000000</td>\n",
       "      <td>780.000000</td>\n",
       "      <td>780.000000</td>\n",
       "    </tr>\n",
       "    <tr>\n",
       "      <th>mean</th>\n",
       "      <td>389.500000</td>\n",
       "      <td>22.714103</td>\n",
       "      <td>92.114103</td>\n",
       "      <td>3.050987</td>\n",
       "    </tr>\n",
       "    <tr>\n",
       "      <th>std</th>\n",
       "      <td>225.310896</td>\n",
       "      <td>6.659444</td>\n",
       "      <td>52.775943</td>\n",
       "      <td>1.169549</td>\n",
       "    </tr>\n",
       "    <tr>\n",
       "      <th>min</th>\n",
       "      <td>0.000000</td>\n",
       "      <td>7.000000</td>\n",
       "      <td>0.000000</td>\n",
       "      <td>1.000000</td>\n",
       "    </tr>\n",
       "    <tr>\n",
       "      <th>25%</th>\n",
       "      <td>194.750000</td>\n",
       "      <td>20.000000</td>\n",
       "      <td>48.000000</td>\n",
       "      <td>1.980000</td>\n",
       "    </tr>\n",
       "    <tr>\n",
       "      <th>50%</th>\n",
       "      <td>389.500000</td>\n",
       "      <td>22.000000</td>\n",
       "      <td>93.000000</td>\n",
       "      <td>3.150000</td>\n",
       "    </tr>\n",
       "    <tr>\n",
       "      <th>75%</th>\n",
       "      <td>584.250000</td>\n",
       "      <td>25.000000</td>\n",
       "      <td>139.000000</td>\n",
       "      <td>4.080000</td>\n",
       "    </tr>\n",
       "    <tr>\n",
       "      <th>max</th>\n",
       "      <td>779.000000</td>\n",
       "      <td>45.000000</td>\n",
       "      <td>183.000000</td>\n",
       "      <td>4.990000</td>\n",
       "    </tr>\n",
       "  </tbody>\n",
       "</table>\n",
       "</div>"
      ],
      "text/plain": [
       "       Purchase ID         Age     Item ID       Price\n",
       "count   780.000000  780.000000  780.000000  780.000000\n",
       "mean    389.500000   22.714103   92.114103    3.050987\n",
       "std     225.310896    6.659444   52.775943    1.169549\n",
       "min       0.000000    7.000000    0.000000    1.000000\n",
       "25%     194.750000   20.000000   48.000000    1.980000\n",
       "50%     389.500000   22.000000   93.000000    3.150000\n",
       "75%     584.250000   25.000000  139.000000    4.080000\n",
       "max     779.000000   45.000000  183.000000    4.990000"
      ]
     },
     "execution_count": 62,
     "metadata": {},
     "output_type": "execute_result"
    }
   ],
   "source": [
    "# using describe as a counter check during calculations\n",
    "    #using min and max in later calculations to evaluate age bins\n",
    "purchase_df.describe()"
   ]
  },
  {
   "cell_type": "code",
   "execution_count": 102,
   "metadata": {},
   "outputs": [
    {
     "name": "stdout",
     "output_type": "stream",
     "text": [
      "Display Total Player Count\n"
     ]
    }
   ],
   "source": [
    "print(\"Display Total Player Count\")"
   ]
  },
  {
   "cell_type": "code",
   "execution_count": 27,
   "metadata": {},
   "outputs": [
    {
     "name": "stdout",
     "output_type": "stream",
     "text": [
      "576\n"
     ]
    }
   ],
   "source": [
    "# Display the total number of players (using unique as this is only total that has value versus total rows of players)\n",
    "\n",
    "player_count = len(purchase_df[\"SN\"].unique())\n",
    "print(player_count)"
   ]
  },
  {
   "cell_type": "code",
   "execution_count": 63,
   "metadata": {},
   "outputs": [
    {
     "name": "stdout",
     "output_type": "stream",
     "text": [
      "Purchasing Analysis\n"
     ]
    }
   ],
   "source": [
    "print(\"Purchasing Analysis\")"
   ]
  },
  {
   "cell_type": "code",
   "execution_count": 50,
   "metadata": {},
   "outputs": [
    {
     "data": {
      "text/html": [
       "<style  type=\"text/css\" >\n",
       "    #T_d9e76c5e_8550_11e9_9ac7_b8763fa85223 tr:hover {\n",
       "          background-color: #ffff99;\n",
       "    }    #T_d9e76c5e_8550_11e9_9ac7_b8763fa85223 th {\n",
       "          font-size: 150%;\n",
       "          text-align: center;\n",
       "    }    #T_d9e76c5e_8550_11e9_9ac7_b8763fa85223 caption {\n",
       "          caption-side: bottom;\n",
       "    }</style><table id=\"T_d9e76c5e_8550_11e9_9ac7_b8763fa85223\" ><caption>Hover to highlight.</caption><thead>    <tr>        <th class=\"blank level0\" ></th>        <th class=\"col_heading level0 col0\" >Total Unique Players</th>        <th class=\"col_heading level0 col1\" >Total Unique Items</th>        <th class=\"col_heading level0 col2\" >Average Price</th>        <th class=\"col_heading level0 col3\" >Number of Purchases</th>        <th class=\"col_heading level0 col4\" >Total Revenue</th>    </tr></thead><tbody>\n",
       "                <tr>\n",
       "                        <th id=\"T_d9e76c5e_8550_11e9_9ac7_b8763fa85223level0_row0\" class=\"row_heading level0 row0\" >0</th>\n",
       "                        <td id=\"T_d9e76c5e_8550_11e9_9ac7_b8763fa85223row0_col0\" class=\"data row0 col0\" >576</td>\n",
       "                        <td id=\"T_d9e76c5e_8550_11e9_9ac7_b8763fa85223row0_col1\" class=\"data row0 col1\" >183</td>\n",
       "                        <td id=\"T_d9e76c5e_8550_11e9_9ac7_b8763fa85223row0_col2\" class=\"data row0 col2\" >[3.05]</td>\n",
       "                        <td id=\"T_d9e76c5e_8550_11e9_9ac7_b8763fa85223row0_col3\" class=\"data row0 col3\" >780</td>\n",
       "                        <td id=\"T_d9e76c5e_8550_11e9_9ac7_b8763fa85223row0_col4\" class=\"data row0 col4\" >2379.77</td>\n",
       "            </tr>\n",
       "    </tbody></table>"
      ],
      "text/plain": [
       "<pandas.io.formats.style.Styler at 0x26506be0f28>"
      ]
     },
     "execution_count": 50,
     "metadata": {},
     "output_type": "execute_result"
    }
   ],
   "source": [
    "# Purchasing Analysis (Total)\n",
    "# Run basic calculations to obtain number of unique items, average price, etc.\n",
    "\n",
    "#unique item count\n",
    "item_count = len(purchase_df[\"Item ID\"].unique())\n",
    "\n",
    "#Average price\n",
    "    #price_average = (purchase_df[\"Price\"].count()/)\n",
    "average_price = [np.round(purchase_df[\"Price\"].mean(), 2)]\n",
    "\n",
    "#Total number of purchases\n",
    "purchase_count = len(purchase_df[\"Purchase ID\"].unique())\n",
    "\n",
    "#Total revenue\n",
    "total_revenue = (purchase_df[\"Price\"].sum())\n",
    "\n",
    "# Create a summary data frame to hold the results\n",
    "summary_table = pd.DataFrame({\"Total Unique Players\": player_count,\n",
    "                              \"Total Unique Items\": [item_count],\n",
    "                              \"Average Price\": [average_price],\n",
    "                              \"Number of Purchases\": [purchase_count],\n",
    "                              \"Total Revenue\":[total_revenue]})             \n",
    "summary_table.style.format({\"Average Price\": \"${:.2f}\", \"Total Revenue\": \"${:.2f}\"})  \n",
    "\n",
    "# Optional: give the displayed data cleaner formatting FOUND on Pandas.pydata.org\n",
    "def hover(hover_color=\"#ffff99\"):\n",
    "    return dict(selector=\"tr:hover\",\n",
    "                props=[(\"background-color\", \"%s\" % hover_color)])\n",
    "\n",
    "styles = [\n",
    "    hover(),\n",
    "    dict(selector=\"th\", props=[(\"font-size\", \"150%\"),\n",
    "                               (\"text-align\", \"center\")]),\n",
    "    dict(selector=\"caption\", props=[(\"caption-side\", \"bottom\")])\n",
    "]\n",
    "html = (summary_table.style.set_table_styles(styles)\n",
    "          .set_caption(\"Hover to highlight.\"))\n",
    "html\n",
    "# Display the summary data frame\n"
   ]
  },
  {
   "cell_type": "code",
   "execution_count": 64,
   "metadata": {},
   "outputs": [
    {
     "data": {
      "text/plain": [
       "Gender\n",
       "Female                    81\n",
       "Male                     484\n",
       "Other / Non-Disclosed     11\n",
       "Name: SN, dtype: int64"
      ]
     },
     "execution_count": 64,
     "metadata": {},
     "output_type": "execute_result"
    }
   ],
   "source": [
    "#Gener Demographics\n",
    "#get a unique count of players by gender to validate the specific counts\n",
    "gender_uniquecount = purchase_df.groupby([\"Gender\"])[\"SN\"].nunique()\n",
    "gender_uniquecount"
   ]
  },
  {
   "cell_type": "code",
   "execution_count": 65,
   "metadata": {},
   "outputs": [
    {
     "name": "stdout",
     "output_type": "stream",
     "text": [
      "Gender Demographics\n"
     ]
    }
   ],
   "source": [
    "print(\"Gender Demographics\")"
   ]
  },
  {
   "cell_type": "code",
   "execution_count": 57,
   "metadata": {},
   "outputs": [
    {
     "data": {
      "text/html": [
       "<style  type=\"text/css\" >\n",
       "</style><table id=\"T_d90c20a8_855c_11e9_9dd3_b8763fa85223\" ><thead>    <tr>        <th class=\"blank level0\" ></th>        <th class=\"col_heading level0 col0\" >Percentage of Players</th>        <th class=\"col_heading level0 col1\" >Total Count</th>    </tr>    <tr>        <th class=\"index_name level0\" >Gender</th>        <th class=\"blank\" ></th>        <th class=\"blank\" ></th>    </tr></thead><tbody>\n",
       "                <tr>\n",
       "                        <th id=\"T_d90c20a8_855c_11e9_9dd3_b8763fa85223level0_row0\" class=\"row_heading level0 row0\" >Female</th>\n",
       "                        <td id=\"T_d90c20a8_855c_11e9_9dd3_b8763fa85223row0_col0\" class=\"data row0 col0\" >84.03%</td>\n",
       "                        <td id=\"T_d90c20a8_855c_11e9_9dd3_b8763fa85223row0_col1\" class=\"data row0 col1\" >81</td>\n",
       "            </tr>\n",
       "            <tr>\n",
       "                        <th id=\"T_d90c20a8_855c_11e9_9dd3_b8763fa85223level0_row1\" class=\"row_heading level0 row1\" >Male</th>\n",
       "                        <td id=\"T_d90c20a8_855c_11e9_9dd3_b8763fa85223row1_col0\" class=\"data row1 col0\" >14.06%</td>\n",
       "                        <td id=\"T_d90c20a8_855c_11e9_9dd3_b8763fa85223row1_col1\" class=\"data row1 col1\" >484</td>\n",
       "            </tr>\n",
       "            <tr>\n",
       "                        <th id=\"T_d90c20a8_855c_11e9_9dd3_b8763fa85223level0_row2\" class=\"row_heading level0 row2\" >Other / Non-Disclosed</th>\n",
       "                        <td id=\"T_d90c20a8_855c_11e9_9dd3_b8763fa85223row2_col0\" class=\"data row2 col0\" >1.91%</td>\n",
       "                        <td id=\"T_d90c20a8_855c_11e9_9dd3_b8763fa85223row2_col1\" class=\"data row2 col1\" >11</td>\n",
       "            </tr>\n",
       "    </tbody></table>"
      ],
      "text/plain": [
       "<pandas.io.formats.style.Styler at 0x26506d359e8>"
      ]
     },
     "execution_count": 57,
     "metadata": {},
     "output_type": "execute_result"
    }
   ],
   "source": [
    "#Gender Demographics\n",
    "\n",
    "#Percentage and Count of Female Player\n",
    "female_gender = purchase_df[purchase_df[\"Gender\"] == \"Female\"][\"SN\"].nunique()\n",
    "\n",
    "#Percentage and Count of Male Players\n",
    "male_gender = purchase_df[purchase_df[\"Gender\"] == \"Male\"][\"SN\"].nunique()\n",
    "\n",
    "#Percentage and Count of Other / Non-Disclosed\n",
    "other_gender = player_count - male_gender - female_gender\n",
    "\n",
    "female_percent = ((male_gender / player_count)*100)\n",
    "male_percent = ((female_gender / player_count)*100)\n",
    "other_percent = ((other_gender / player_count)*100)\n",
    "\n",
    "#table of gender data\n",
    "\n",
    "gender_df = pd.DataFrame({\"Gender\": [\"Female\", \"Male\", \"Other / Non-Disclosed\"], \"Percentage of Players\":\n",
    "                                      [female_percent, male_percent, other_percent],\n",
    "                                      \"Total Count\": [female_gender, male_gender, other_gender]}, columns = \n",
    "                                       [\"Gender\", \"Percentage of Players\", \"Total Count\"])\n",
    "                                        \n",
    "gender_df_final = gender_df.set_index(\"Gender\")\n",
    "gender_df_final.style.format({\"Percentage of Players\": \"{:.2f}%\"})     "
   ]
  },
  {
   "cell_type": "code",
   "execution_count": 66,
   "metadata": {},
   "outputs": [
    {
     "name": "stdout",
     "output_type": "stream",
     "text": [
      "Purchasing Analysis by Gender\n"
     ]
    }
   ],
   "source": [
    "print(\"Purchasing Analysis by Gender\")"
   ]
  },
  {
   "cell_type": "code",
   "execution_count": 142,
   "metadata": {},
   "outputs": [
    {
     "data": {
      "text/html": [
       "<style  type=\"text/css\" >\n",
       "</style><table id=\"T_a9159324_8617_11e9_8409_b8763fa85223\" ><thead>    <tr>        <th class=\"blank level0\" ></th>        <th class=\"col_heading level0 col0\" >Purchase Count</th>        <th class=\"col_heading level0 col1\" >Average Purchase Price</th>        <th class=\"col_heading level0 col2\" >Total Purchase Value</th>        <th class=\"col_heading level0 col3\" >Average Total Purchase</th>    </tr>    <tr>        <th class=\"index_name level0\" >Gender</th>        <th class=\"blank\" ></th>        <th class=\"blank\" ></th>        <th class=\"blank\" ></th>        <th class=\"blank\" ></th>    </tr></thead><tbody>\n",
       "                <tr>\n",
       "                        <th id=\"T_a9159324_8617_11e9_8409_b8763fa85223level0_row0\" class=\"row_heading level0 row0\" >Female</th>\n",
       "                        <td id=\"T_a9159324_8617_11e9_8409_b8763fa85223row0_col0\" class=\"data row0 col0\" >113</td>\n",
       "                        <td id=\"T_a9159324_8617_11e9_8409_b8763fa85223row0_col1\" class=\"data row0 col1\" >$3.20</td>\n",
       "                        <td id=\"T_a9159324_8617_11e9_8409_b8763fa85223row0_col2\" class=\"data row0 col2\" >$361.94</td>\n",
       "                        <td id=\"T_a9159324_8617_11e9_8409_b8763fa85223row0_col3\" class=\"data row0 col3\" >$3.20</td>\n",
       "            </tr>\n",
       "            <tr>\n",
       "                        <th id=\"T_a9159324_8617_11e9_8409_b8763fa85223level0_row1\" class=\"row_heading level0 row1\" >Male</th>\n",
       "                        <td id=\"T_a9159324_8617_11e9_8409_b8763fa85223row1_col0\" class=\"data row1 col0\" >652</td>\n",
       "                        <td id=\"T_a9159324_8617_11e9_8409_b8763fa85223row1_col1\" class=\"data row1 col1\" >$3.02</td>\n",
       "                        <td id=\"T_a9159324_8617_11e9_8409_b8763fa85223row1_col2\" class=\"data row1 col2\" >$1967.64</td>\n",
       "                        <td id=\"T_a9159324_8617_11e9_8409_b8763fa85223row1_col3\" class=\"data row1 col3\" >$3.02</td>\n",
       "            </tr>\n",
       "            <tr>\n",
       "                        <th id=\"T_a9159324_8617_11e9_8409_b8763fa85223level0_row2\" class=\"row_heading level0 row2\" >Other / Non-Disclosed</th>\n",
       "                        <td id=\"T_a9159324_8617_11e9_8409_b8763fa85223row2_col0\" class=\"data row2 col0\" >15</td>\n",
       "                        <td id=\"T_a9159324_8617_11e9_8409_b8763fa85223row2_col1\" class=\"data row2 col1\" >$3.35</td>\n",
       "                        <td id=\"T_a9159324_8617_11e9_8409_b8763fa85223row2_col2\" class=\"data row2 col2\" >$50.19</td>\n",
       "                        <td id=\"T_a9159324_8617_11e9_8409_b8763fa85223row2_col3\" class=\"data row2 col3\" >$3.35</td>\n",
       "            </tr>\n",
       "    </tbody></table>"
      ],
      "text/plain": [
       "<pandas.io.formats.style.Styler at 0x26506e63dd8>"
      ]
     },
     "execution_count": 142,
     "metadata": {},
     "output_type": "execute_result"
    }
   ],
   "source": [
    "# Purchasing Analysis (Gender)\n",
    "\n",
    "#Run basic calculations to obtain purchase count, avg. purchase price, avg. purchase total per person etc. by gender\n",
    "\n",
    "#Counts by gender\n",
    "female_purchase = purchase_df[purchase_df[\"Gender\"] == \"Female\"][\"Price\"].count()\n",
    "male_purchase = purchase_df[purchase_df[\"Gender\"] == \"Male\"][\"Price\"].count()\n",
    "other_purchase = purchase_df[purchase_df[\"Gender\"] == \"Other / Non-Disclosed\"][\"Price\"].count()\n",
    "\n",
    "#Averages by gender\n",
    "female_pa = purchase_df[purchase_df[\"Gender\"] == \"Female\"]['Price'].mean()\n",
    "male_pa = purchase_df[purchase_df[\"Gender\"] == \"Male\"]['Price'].mean()\n",
    "other_pa = purchase_df[purchase_df[\"Gender\"] == \"Other / Non-Disclosed\"]['Price'].mean()\n",
    "\n",
    "#Sum by gender\n",
    "female_sum = purchase_df[purchase_df[\"Gender\"] == \"Female\"]['Price'].sum()\n",
    "male_sum = purchase_df[purchase_df[\"Gender\"] == \"Male\"]['Price'].sum()\n",
    "other_sum = purchase_df[purchase_df[\"Gender\"] == \"Other / Non-Disclosed\"]['Price'].sum()\n",
    "\n",
    "#Average Total Purchase per person by Gender\n",
    "female_total = female_sum/female_purchase\n",
    "male_total = male_sum/male_purchase\n",
    "other_total = other_sum/other_purchase\n",
    "\n",
    "#Create a summary data frame to hold the results\n",
    "\n",
    "#Optional: give the displayed data cleaner formatting (figure out how to do the special formatting to ALL!)\n",
    "\n",
    "\n",
    "gender_purchase_df = pd.DataFrame({\"Gender\": [\"Female\", \"Male\", \"Other / Non-Disclosed\"], \n",
    "                                   \"Purchase Count\": [female_purchase, male_purchase, other_purchase],\n",
    "                                    \"Average Purchase Price\": [female_pa, male_pa, other_pa], \n",
    "                                    \"Total Purchase Value\": [female_sum, male_sum, other_sum],\n",
    "                                    \"Average Total Purchase\": [female_total, male_total, other_total]}, \n",
    "                                     columns = [\"Gender\", \"Purchase Count\", \"Average Purchase Price\", \n",
    "                                                \"Total Purchase Value\", \"Average Total Purchase\"])\n",
    "                                        \n",
    "gender_purchase_final = gender_purchase_df.set_index(\"Gender\")\n",
    "gender_purchase_final.style.format({\"Average Purchase Price\": \"${:.2f}\", \n",
    "                                    \"Total Purchase Value\": \"${:.2f}\", \"Average Total Purchase\": \"${:.2f}\"})\n",
    "\n",
    "#Display the summary data frame"
   ]
  },
  {
   "cell_type": "code",
   "execution_count": 103,
   "metadata": {},
   "outputs": [
    {
     "name": "stdout",
     "output_type": "stream",
     "text": [
      "Age Demographics\n"
     ]
    }
   ],
   "source": [
    "print(\"Age Demographics\")"
   ]
  },
  {
   "cell_type": "code",
   "execution_count": 116,
   "metadata": {},
   "outputs": [
    {
     "data": {
      "text/html": [
       "<style  type=\"text/css\" >\n",
       "</style><table id=\"T_9dc42602_856e_11e9_a7e9_b8763fa85223\" ><thead>    <tr>        <th class=\"blank level0\" ></th>        <th class=\"col_heading level0 col0\" >Percentage of Players</th>        <th class=\"col_heading level0 col1\" >Total Count</th>    </tr>    <tr>        <th class=\"index_name level0\" >Age</th>        <th class=\"blank\" ></th>        <th class=\"blank\" ></th>    </tr></thead><tbody>\n",
       "                <tr>\n",
       "                        <th id=\"T_9dc42602_856e_11e9_a7e9_b8763fa85223level0_row0\" class=\"row_heading level0 row0\" ><10</th>\n",
       "                        <td id=\"T_9dc42602_856e_11e9_a7e9_b8763fa85223row0_col0\" class=\"data row0 col0\" >2.95%</td>\n",
       "                        <td id=\"T_9dc42602_856e_11e9_a7e9_b8763fa85223row0_col1\" class=\"data row0 col1\" >17</td>\n",
       "            </tr>\n",
       "            <tr>\n",
       "                        <th id=\"T_9dc42602_856e_11e9_a7e9_b8763fa85223level0_row1\" class=\"row_heading level0 row1\" >10-14</th>\n",
       "                        <td id=\"T_9dc42602_856e_11e9_a7e9_b8763fa85223row1_col0\" class=\"data row1 col0\" >3.82%</td>\n",
       "                        <td id=\"T_9dc42602_856e_11e9_a7e9_b8763fa85223row1_col1\" class=\"data row1 col1\" >22</td>\n",
       "            </tr>\n",
       "            <tr>\n",
       "                        <th id=\"T_9dc42602_856e_11e9_a7e9_b8763fa85223level0_row2\" class=\"row_heading level0 row2\" >15-19</th>\n",
       "                        <td id=\"T_9dc42602_856e_11e9_a7e9_b8763fa85223row2_col0\" class=\"data row2 col0\" >18.58%</td>\n",
       "                        <td id=\"T_9dc42602_856e_11e9_a7e9_b8763fa85223row2_col1\" class=\"data row2 col1\" >107</td>\n",
       "            </tr>\n",
       "            <tr>\n",
       "                        <th id=\"T_9dc42602_856e_11e9_a7e9_b8763fa85223level0_row3\" class=\"row_heading level0 row3\" >20-24</th>\n",
       "                        <td id=\"T_9dc42602_856e_11e9_a7e9_b8763fa85223row3_col0\" class=\"data row3 col0\" >44.79%</td>\n",
       "                        <td id=\"T_9dc42602_856e_11e9_a7e9_b8763fa85223row3_col1\" class=\"data row3 col1\" >258</td>\n",
       "            </tr>\n",
       "            <tr>\n",
       "                        <th id=\"T_9dc42602_856e_11e9_a7e9_b8763fa85223level0_row4\" class=\"row_heading level0 row4\" >25-29</th>\n",
       "                        <td id=\"T_9dc42602_856e_11e9_a7e9_b8763fa85223row4_col0\" class=\"data row4 col0\" >13.37%</td>\n",
       "                        <td id=\"T_9dc42602_856e_11e9_a7e9_b8763fa85223row4_col1\" class=\"data row4 col1\" >77</td>\n",
       "            </tr>\n",
       "            <tr>\n",
       "                        <th id=\"T_9dc42602_856e_11e9_a7e9_b8763fa85223level0_row5\" class=\"row_heading level0 row5\" >30-34</th>\n",
       "                        <td id=\"T_9dc42602_856e_11e9_a7e9_b8763fa85223row5_col0\" class=\"data row5 col0\" >9.03%</td>\n",
       "                        <td id=\"T_9dc42602_856e_11e9_a7e9_b8763fa85223row5_col1\" class=\"data row5 col1\" >52</td>\n",
       "            </tr>\n",
       "            <tr>\n",
       "                        <th id=\"T_9dc42602_856e_11e9_a7e9_b8763fa85223level0_row6\" class=\"row_heading level0 row6\" >35-39</th>\n",
       "                        <td id=\"T_9dc42602_856e_11e9_a7e9_b8763fa85223row6_col0\" class=\"data row6 col0\" >5.38%</td>\n",
       "                        <td id=\"T_9dc42602_856e_11e9_a7e9_b8763fa85223row6_col1\" class=\"data row6 col1\" >31</td>\n",
       "            </tr>\n",
       "            <tr>\n",
       "                        <th id=\"T_9dc42602_856e_11e9_a7e9_b8763fa85223level0_row7\" class=\"row_heading level0 row7\" >40-44</th>\n",
       "                        <td id=\"T_9dc42602_856e_11e9_a7e9_b8763fa85223row7_col0\" class=\"data row7 col0\" >1.91%</td>\n",
       "                        <td id=\"T_9dc42602_856e_11e9_a7e9_b8763fa85223row7_col1\" class=\"data row7 col1\" >11</td>\n",
       "            </tr>\n",
       "            <tr>\n",
       "                        <th id=\"T_9dc42602_856e_11e9_a7e9_b8763fa85223level0_row8\" class=\"row_heading level0 row8\" >45-49</th>\n",
       "                        <td id=\"T_9dc42602_856e_11e9_a7e9_b8763fa85223row8_col0\" class=\"data row8 col0\" >0.17%</td>\n",
       "                        <td id=\"T_9dc42602_856e_11e9_a7e9_b8763fa85223row8_col1\" class=\"data row8 col1\" >1</td>\n",
       "            </tr>\n",
       "    </tbody></table>"
      ],
      "text/plain": [
       "<pandas.io.formats.style.Styler at 0x26506e18550>"
      ]
     },
     "execution_count": 116,
     "metadata": {},
     "output_type": "execute_result"
    }
   ],
   "source": [
    "#Age Demographics\n",
    "\n",
    "#Establish bins for ages  MIN was 7 MAX was 45\n",
    "#Categorize the existing players using the age bins. ?? Hint: use pd.cut()??\n",
    "# CREATE ACTUAL BINS\n",
    "#purchase_df[\"age Range\"] = pd.cut(purchase_df(age), bins, )\n",
    "\n",
    "#Calculate the numbers and percentages by age group\n",
    "\n",
    "underten = purchase_df[purchase_df[\"Age\"] <10]\n",
    "lowteens = purchase_df[(purchase_df[\"Age\"] >=10) & (purchase_df[\"Age\"] <=14)]\n",
    "hiteens = purchase_df[(purchase_df[\"Age\"] >=15) & (purchase_df[\"Age\"] <=19)]\n",
    "lotwenty = purchase_df[(purchase_df[\"Age\"] >=20) & (purchase_df[\"Age\"] <=24)]\n",
    "hitwenty = purchase_df[(purchase_df[\"Age\"] >=25) & (purchase_df[\"Age\"] <=29)]\n",
    "lothirty = purchase_df[(purchase_df[\"Age\"] >=30) & (purchase_df[\"Age\"] <=34)]\n",
    "hithirty = purchase_df[(purchase_df[\"Age\"] >=35) & (purchase_df[\"Age\"] <=39)]\n",
    "loforty = purchase_df[(purchase_df[\"Age\"] >=40) & (purchase_df[\"Age\"] <=44)]\n",
    "hiforty = purchase_df[(purchase_df[\"Age\"] >=45) & (purchase_df[\"Age\"] <=49)]\n",
    "\n",
    "\n",
    "#Create a summary data frame to hold the results\n",
    "age_df = pd.DataFrame({\"Age\": [\"<10\", \"10-14\", \"15-19\", \"20-24\", \"25-29\", \"30-34\", \"35-39\", \"40-44\", \"45-49\"],\n",
    "                        \"Percentage of Players\": [(underten[\"SN\"].nunique()/player_count)*100, \n",
    "                                                  (lowteens[\"SN\"].nunique()/player_count)*100, \n",
    "                                                  (hiteens[\"SN\"].nunique()/player_count)*100, \n",
    "                                                  (lotwenty[\"SN\"].nunique()/player_count)*100, \n",
    "                                                  (hitwenty[\"SN\"].nunique()/player_count)*100,\n",
    "                                                  (lothirty[\"SN\"].nunique()/player_count)*100,\n",
    "                                                  (hithirty[\"SN\"].nunique()/player_count)*100, \n",
    "                                                  (loforty[\"SN\"].nunique()/player_count)*100, \n",
    "                                                  (hiforty[\"SN\"].nunique()/player_count)*100],\n",
    "                        \"Total Count\": [underten[\"SN\"].nunique(), lowteens[\"SN\"].nunique(), \n",
    "                                        hiteens[\"SN\"].nunique(), lotwenty[\"SN\"].nunique(), \n",
    "                                        hitwenty[\"SN\"].nunique(), lothirty[\"SN\"].nunique(), \n",
    "                                        hithirty[\"SN\"].nunique(), loforty[\"SN\"].nunique(), \n",
    "                                        hiforty[\"SN\"].nunique()]\n",
    "                       })\n",
    "\n",
    "#Optional: round the percentage column to two decimal points\n",
    "\n",
    "age_final = age_df.set_index(\"Age\")\n",
    "age_final.style.format({\"Percentage of Players\": \"{:.2f}%\"})  \n",
    "  \n",
    "#Display Age Demographics Table\n"
   ]
  },
  {
   "cell_type": "code",
   "execution_count": 117,
   "metadata": {},
   "outputs": [
    {
     "name": "stdout",
     "output_type": "stream",
     "text": [
      "Top Spenders\n"
     ]
    }
   ],
   "source": [
    "print(\"Top Spenders\")"
   ]
  },
  {
   "cell_type": "code",
   "execution_count": 146,
   "metadata": {},
   "outputs": [
    {
     "data": {
      "text/html": [
       "<div>\n",
       "<style scoped>\n",
       "    .dataframe tbody tr th:only-of-type {\n",
       "        vertical-align: middle;\n",
       "    }\n",
       "\n",
       "    .dataframe tbody tr th {\n",
       "        vertical-align: top;\n",
       "    }\n",
       "\n",
       "    .dataframe thead th {\n",
       "        text-align: right;\n",
       "    }\n",
       "</style>\n",
       "<table border=\"1\" class=\"dataframe\">\n",
       "  <thead>\n",
       "    <tr style=\"text-align: right;\">\n",
       "      <th></th>\n",
       "      <th>Purchase Count</th>\n",
       "      <th>Average Purchase Price</th>\n",
       "      <th>Total Purchase Value</th>\n",
       "    </tr>\n",
       "    <tr>\n",
       "      <th>SN</th>\n",
       "      <th></th>\n",
       "      <th></th>\n",
       "      <th></th>\n",
       "    </tr>\n",
       "  </thead>\n",
       "  <tbody>\n",
       "    <tr>\n",
       "      <th>Lisosia93</th>\n",
       "      <td>5</td>\n",
       "      <td>3.792000</td>\n",
       "      <td>18.96</td>\n",
       "    </tr>\n",
       "    <tr>\n",
       "      <th>Idastidru52</th>\n",
       "      <td>4</td>\n",
       "      <td>3.862500</td>\n",
       "      <td>15.45</td>\n",
       "    </tr>\n",
       "    <tr>\n",
       "      <th>Chamjask73</th>\n",
       "      <td>3</td>\n",
       "      <td>4.610000</td>\n",
       "      <td>13.83</td>\n",
       "    </tr>\n",
       "    <tr>\n",
       "      <th>Iral74</th>\n",
       "      <td>4</td>\n",
       "      <td>3.405000</td>\n",
       "      <td>13.62</td>\n",
       "    </tr>\n",
       "    <tr>\n",
       "      <th>Iskadarya95</th>\n",
       "      <td>3</td>\n",
       "      <td>4.366667</td>\n",
       "      <td>13.10</td>\n",
       "    </tr>\n",
       "  </tbody>\n",
       "</table>\n",
       "</div>"
      ],
      "text/plain": [
       "             Purchase Count  Average Purchase Price  Total Purchase Value\n",
       "SN                                                                       \n",
       "Lisosia93                 5                3.792000                 18.96\n",
       "Idastidru52               4                3.862500                 15.45\n",
       "Chamjask73                3                4.610000                 13.83\n",
       "Iral74                    4                3.405000                 13.62\n",
       "Iskadarya95               3                4.366667                 13.10"
      ]
     },
     "execution_count": 146,
     "metadata": {},
     "output_type": "execute_result"
    }
   ],
   "source": [
    "#Top Spenders\n",
    "\n",
    "#Run basic calculations to obtain the results in the table below, \n",
    "#Purchase Count\tAverage\n",
    "\n",
    "# Calculate 'Total Purchase Count' for each SN:  count the SN and price values from the DF\n",
    "count_per_SN = purchase_df.groupby('SN')['Price'].count()\n",
    "count_per_SN_df = pd.DataFrame(count_per_SN)\n",
    "\n",
    "# Calculate 'Total Purchase Price' for each SN: find the unique of the SN values within the DF and sum the prices\n",
    "unique_SN_df = purchase_df.groupby('SN')['Price'].sum()\n",
    "\n",
    "#Purchase Price\tTotal Purchase Value\tAvg \n",
    "#Total Purchase per Person\n",
    "# Calculate 'Average Purchase Price' Use mean to find the average of the SN spend within the DF\n",
    "avg_price_per_SN = purchase_df.groupby('SN')['Price'].mean()\n",
    "\n",
    "#Create a summary data frame to hold the results\n",
    "\n",
    "# Add 'Average Purchase Price' to table  defining the column Average purchase\n",
    "count_per_SN_df['Average Purchase Price'] = avg_price_per_SN\n",
    "\n",
    "# Add 'Total Purchase Value' to table defining the column total purchase\n",
    "count_per_SN_df['Total Purchase Value'] = unique_SN_df\n",
    "count_per_SN_df\n",
    "\n",
    "# Rename 'Price' to 'Purchase Count'  \n",
    "updated_count_per_SN_df = count_per_SN_df.rename(columns={\n",
    "    'Price': 'Purchase Count',\n",
    "})\n",
    "\n",
    "#Sort the total purchase value column in descending order\n",
    "\n",
    "# Sort 'Price' from highest to lowest\n",
    "sorted_SN_df = updated_count_per_SN_df.sort_values(by=['Total Purchase Value'], ascending=False)\n",
    "sorted_SN_df\n",
    "\n",
    "#Optional: give the displayed data cleaner formatting\n",
    "\n",
    "#Display a preview of the summary data frame\n",
    "\n",
    "# Show top 5 spenders only\n",
    "sorted_SN_df.head(5)\n",
    "\n",
    "# FOUND - 6-2-19 - COMPARE TO LEARN DIFFERENCE\n",
    "#SN\n",
    "#SN = data1.groupby(data1[\"SN\"])\n",
    "#ScreenName = SN[\"SN\"].unique()\n",
    "\n",
    "#Purchase Count\n",
    "#SNCount = SN['Age'].count()\n",
    "\n",
    "#Average Purchase Price\n",
    "#SNAverage = round(SN['Price'].mean(),2)\n",
    "\n",
    "#Total Purchase Value\n",
    "#SNTotal = SN['Price'].sum()\n",
    "\n",
    "\n",
    "#TopSpend = {\"SN\":ScreenName,\"Purchase Count\":SNCount,\n",
    "             #    \"Average Purchase Price\":SNAverage,\"Total Purchase Value\":SNTotal}\n",
    "#TopSpend1= pd.DataFrame(TopSpend)\n",
    "#TopSpend1= TopSpend1.set_index('SN')\n",
    "#TopSpend1 = TopSpend1.sort_values(\"Total Purchase Value\",ascending=False)\n",
    "#TopSpend1 = TopSpend1[['Purchase Count', 'Average Purchase Price', 'Total Purchase Value']]\n",
    "\n",
    "#TopSpend1.iloc[:5]\n",
    "\n",
    "\n"
   ]
  },
  {
   "cell_type": "code",
   "execution_count": 137,
   "metadata": {},
   "outputs": [
    {
     "name": "stdout",
     "output_type": "stream",
     "text": [
      "Most Popular Items\n"
     ]
    }
   ],
   "source": [
    "print(\"Most Popular Items\")"
   ]
  },
  {
   "cell_type": "code",
   "execution_count": 150,
   "metadata": {},
   "outputs": [
    {
     "data": {
      "text/html": [
       "<style  type=\"text/css\" >\n",
       "</style><table id=\"T_ba8bac1e_864c_11e9_8c32_b8763fa85223\" ><thead>    <tr>        <th class=\"blank\" ></th>        <th class=\"blank level0\" ></th>        <th class=\"col_heading level0 col0\" >Purchase Count</th>        <th class=\"col_heading level0 col1\" >Item Price</th>        <th class=\"col_heading level0 col2\" >Total Purchase Value</th>    </tr>    <tr>        <th class=\"index_name level0\" >Item ID</th>        <th class=\"index_name level1\" >Item Name</th>        <th class=\"blank\" ></th>        <th class=\"blank\" ></th>        <th class=\"blank\" ></th>    </tr></thead><tbody>\n",
       "                <tr>\n",
       "                        <th id=\"T_ba8bac1e_864c_11e9_8c32_b8763fa85223level0_row0\" class=\"row_heading level0 row0\" >178</th>\n",
       "                        <th id=\"T_ba8bac1e_864c_11e9_8c32_b8763fa85223level1_row0\" class=\"row_heading level1 row0\" >Oathbreaker, Last Hope of the Breaking Storm</th>\n",
       "                        <td id=\"T_ba8bac1e_864c_11e9_8c32_b8763fa85223row0_col0\" class=\"data row0 col0\" >12</td>\n",
       "                        <td id=\"T_ba8bac1e_864c_11e9_8c32_b8763fa85223row0_col1\" class=\"data row0 col1\" >$4.23</td>\n",
       "                        <td id=\"T_ba8bac1e_864c_11e9_8c32_b8763fa85223row0_col2\" class=\"data row0 col2\" >$50.76</td>\n",
       "            </tr>\n",
       "            <tr>\n",
       "                        <th id=\"T_ba8bac1e_864c_11e9_8c32_b8763fa85223level0_row1\" class=\"row_heading level0 row1\" >82</th>\n",
       "                        <th id=\"T_ba8bac1e_864c_11e9_8c32_b8763fa85223level1_row1\" class=\"row_heading level1 row1\" >Nirvana</th>\n",
       "                        <td id=\"T_ba8bac1e_864c_11e9_8c32_b8763fa85223row1_col0\" class=\"data row1 col0\" >9</td>\n",
       "                        <td id=\"T_ba8bac1e_864c_11e9_8c32_b8763fa85223row1_col1\" class=\"data row1 col1\" >$4.90</td>\n",
       "                        <td id=\"T_ba8bac1e_864c_11e9_8c32_b8763fa85223row1_col2\" class=\"data row1 col2\" >$44.10</td>\n",
       "            </tr>\n",
       "            <tr>\n",
       "                        <th id=\"T_ba8bac1e_864c_11e9_8c32_b8763fa85223level0_row2\" class=\"row_heading level0 row2\" >145</th>\n",
       "                        <th id=\"T_ba8bac1e_864c_11e9_8c32_b8763fa85223level1_row2\" class=\"row_heading level1 row2\" >Fiery Glass Crusader</th>\n",
       "                        <td id=\"T_ba8bac1e_864c_11e9_8c32_b8763fa85223row2_col0\" class=\"data row2 col0\" >9</td>\n",
       "                        <td id=\"T_ba8bac1e_864c_11e9_8c32_b8763fa85223row2_col1\" class=\"data row2 col1\" >$4.58</td>\n",
       "                        <td id=\"T_ba8bac1e_864c_11e9_8c32_b8763fa85223row2_col2\" class=\"data row2 col2\" >$41.22</td>\n",
       "            </tr>\n",
       "            <tr>\n",
       "                        <th id=\"T_ba8bac1e_864c_11e9_8c32_b8763fa85223level0_row3\" class=\"row_heading level0 row3\" >108</th>\n",
       "                        <th id=\"T_ba8bac1e_864c_11e9_8c32_b8763fa85223level1_row3\" class=\"row_heading level1 row3\" >Extraction, Quickblade Of Trembling Hands</th>\n",
       "                        <td id=\"T_ba8bac1e_864c_11e9_8c32_b8763fa85223row3_col0\" class=\"data row3 col0\" >9</td>\n",
       "                        <td id=\"T_ba8bac1e_864c_11e9_8c32_b8763fa85223row3_col1\" class=\"data row3 col1\" >$3.53</td>\n",
       "                        <td id=\"T_ba8bac1e_864c_11e9_8c32_b8763fa85223row3_col2\" class=\"data row3 col2\" >$31.77</td>\n",
       "            </tr>\n",
       "            <tr>\n",
       "                        <th id=\"T_ba8bac1e_864c_11e9_8c32_b8763fa85223level0_row4\" class=\"row_heading level0 row4\" >103</th>\n",
       "                        <th id=\"T_ba8bac1e_864c_11e9_8c32_b8763fa85223level1_row4\" class=\"row_heading level1 row4\" >Singed Scalpel</th>\n",
       "                        <td id=\"T_ba8bac1e_864c_11e9_8c32_b8763fa85223row4_col0\" class=\"data row4 col0\" >8</td>\n",
       "                        <td id=\"T_ba8bac1e_864c_11e9_8c32_b8763fa85223row4_col1\" class=\"data row4 col1\" >$4.35</td>\n",
       "                        <td id=\"T_ba8bac1e_864c_11e9_8c32_b8763fa85223row4_col2\" class=\"data row4 col2\" >$34.80</td>\n",
       "            </tr>\n",
       "            <tr>\n",
       "                        <th id=\"T_ba8bac1e_864c_11e9_8c32_b8763fa85223level0_row5\" class=\"row_heading level0 row5\" >60</th>\n",
       "                        <th id=\"T_ba8bac1e_864c_11e9_8c32_b8763fa85223level1_row5\" class=\"row_heading level1 row5\" >Wolf</th>\n",
       "                        <td id=\"T_ba8bac1e_864c_11e9_8c32_b8763fa85223row5_col0\" class=\"data row5 col0\" >8</td>\n",
       "                        <td id=\"T_ba8bac1e_864c_11e9_8c32_b8763fa85223row5_col1\" class=\"data row5 col1\" >$3.54</td>\n",
       "                        <td id=\"T_ba8bac1e_864c_11e9_8c32_b8763fa85223row5_col2\" class=\"data row5 col2\" >$28.32</td>\n",
       "            </tr>\n",
       "            <tr>\n",
       "                        <th id=\"T_ba8bac1e_864c_11e9_8c32_b8763fa85223level0_row6\" class=\"row_heading level0 row6\" >72</th>\n",
       "                        <th id=\"T_ba8bac1e_864c_11e9_8c32_b8763fa85223level1_row6\" class=\"row_heading level1 row6\" >Winter's Bite</th>\n",
       "                        <td id=\"T_ba8bac1e_864c_11e9_8c32_b8763fa85223row6_col0\" class=\"data row6 col0\" >8</td>\n",
       "                        <td id=\"T_ba8bac1e_864c_11e9_8c32_b8763fa85223row6_col1\" class=\"data row6 col1\" >$3.77</td>\n",
       "                        <td id=\"T_ba8bac1e_864c_11e9_8c32_b8763fa85223row6_col2\" class=\"data row6 col2\" >$30.16</td>\n",
       "            </tr>\n",
       "            <tr>\n",
       "                        <th id=\"T_ba8bac1e_864c_11e9_8c32_b8763fa85223level0_row7\" class=\"row_heading level0 row7\" >75</th>\n",
       "                        <th id=\"T_ba8bac1e_864c_11e9_8c32_b8763fa85223level1_row7\" class=\"row_heading level1 row7\" >Brutality Ivory Warmace</th>\n",
       "                        <td id=\"T_ba8bac1e_864c_11e9_8c32_b8763fa85223row7_col0\" class=\"data row7 col0\" >8</td>\n",
       "                        <td id=\"T_ba8bac1e_864c_11e9_8c32_b8763fa85223row7_col1\" class=\"data row7 col1\" >$2.42</td>\n",
       "                        <td id=\"T_ba8bac1e_864c_11e9_8c32_b8763fa85223row7_col2\" class=\"data row7 col2\" >$19.36</td>\n",
       "            </tr>\n",
       "            <tr>\n",
       "                        <th id=\"T_ba8bac1e_864c_11e9_8c32_b8763fa85223level0_row8\" class=\"row_heading level0 row8\" >52</th>\n",
       "                        <th id=\"T_ba8bac1e_864c_11e9_8c32_b8763fa85223level1_row8\" class=\"row_heading level1 row8\" >Brutality Ivory Warmace</th>\n",
       "                        <td id=\"T_ba8bac1e_864c_11e9_8c32_b8763fa85223row8_col0\" class=\"data row8 col0\" >8</td>\n",
       "                        <td id=\"T_ba8bac1e_864c_11e9_8c32_b8763fa85223row8_col1\" class=\"data row8 col1\" >$2.42</td>\n",
       "                        <td id=\"T_ba8bac1e_864c_11e9_8c32_b8763fa85223row8_col2\" class=\"data row8 col2\" >$19.36</td>\n",
       "            </tr>\n",
       "            <tr>\n",
       "                        <th id=\"T_ba8bac1e_864c_11e9_8c32_b8763fa85223level0_row9\" class=\"row_heading level0 row9\" >34</th>\n",
       "                        <th id=\"T_ba8bac1e_864c_11e9_8c32_b8763fa85223level1_row9\" class=\"row_heading level1 row9\" >Retribution Axe</th>\n",
       "                        <td id=\"T_ba8bac1e_864c_11e9_8c32_b8763fa85223row9_col0\" class=\"data row9 col0\" >8</td>\n",
       "                        <td id=\"T_ba8bac1e_864c_11e9_8c32_b8763fa85223row9_col1\" class=\"data row9 col1\" >$2.22</td>\n",
       "                        <td id=\"T_ba8bac1e_864c_11e9_8c32_b8763fa85223row9_col2\" class=\"data row9 col2\" >$17.76</td>\n",
       "            </tr>\n",
       "    </tbody></table>"
      ],
      "text/plain": [
       "<pandas.io.formats.style.Styler at 0x26506e37e48>"
      ]
     },
     "execution_count": 150,
     "metadata": {},
     "output_type": "execute_result"
    }
   ],
   "source": [
    "#Most Popular Items\n",
    "\n",
    "#Retrieve the Item ID, Item Name, and Item Price columns\n",
    "\n",
    "#Group by Item ID and Item Name. Perform calculations to obtain purchase count, item price, and total purchase value\n",
    "\n",
    "#Create a summary data frame to hold the results\n",
    "\n",
    "#Sort the purchase count column in descending order\n",
    "\n",
    "#Optional: give the displayed data cleaner formatting\n",
    "\n",
    "#Display a preview of the summary data frame\n",
    "#merge dataframes to find purchase count, total purchase value for items\n",
    "#reset indices to dataframes can be merged on specific elements\n",
    "premergeone = purchase_df.groupby(\"Item Name\").sum().reset_index()\n",
    "premergetwo = purchase_df.groupby(\"Item ID\").sum().reset_index()\n",
    "premergethree = purchase_df.groupby(\"Item Name\").count().reset_index()\n",
    "\n",
    "#merge dataframes\n",
    "mergeone = pd.merge(premergeone, premergetwo, on=\"Price\")\n",
    "mergetwo = pd.merge(premergethree, mergeone, on=\"Item Name\")\n",
    "\n",
    "#start to create final dataframe by manipulating data\n",
    "mergetwo[\"Gender\"] = (mergetwo[\"Price_y\"]/mergetwo[\"Item ID\"]).round(2)\n",
    "\n",
    "mergetwo_renamed = mergetwo.rename(columns={\"Age\": \"Purchase Count\", \"Gender\": \"Item Price\", \"Item ID\": \"null\", \"Price_y\": \"Total Purchase Value\", \"Item ID_y\": \"Item ID\"})\n",
    "\n",
    "#grab columns we are looking for\n",
    "clean_df = mergetwo_renamed[[\"Item ID\", \"Item Name\", \"Purchase Count\", \"Item Price\", \"Total Purchase Value\"]]\n",
    "\n",
    "prefinal_df = clean_df.set_index(['Item ID','Item Name'])\n",
    "popular_items_final = prefinal_df.sort_values('Purchase Count', ascending=False).head(10)\n",
    "popular_items_final.style.format({\"Item Price\": \"${:.2f}\", \"Total Purchase Value\": \"${:.2f}\"})\n"
   ]
  },
  {
   "cell_type": "code",
   "execution_count": 111,
   "metadata": {},
   "outputs": [
    {
     "name": "stdout",
     "output_type": "stream",
     "text": [
      "Most Profitable Items\n"
     ]
    }
   ],
   "source": [
    "print(\"Most Profitable Items\")"
   ]
  },
  {
   "cell_type": "code",
   "execution_count": 148,
   "metadata": {},
   "outputs": [
    {
     "data": {
      "text/html": [
       "<style  type=\"text/css\" >\n",
       "</style><table id=\"T_79ca33fa_861e_11e9_a788_b8763fa85223\" ><thead>    <tr>        <th class=\"blank\" ></th>        <th class=\"blank level0\" ></th>        <th class=\"col_heading level0 col0\" >Purchase Count</th>        <th class=\"col_heading level0 col1\" >Item Price</th>        <th class=\"col_heading level0 col2\" >Total Purchase Value</th>    </tr>    <tr>        <th class=\"index_name level0\" >Item Name</th>        <th class=\"index_name level1\" >Item ID</th>        <th class=\"blank\" ></th>        <th class=\"blank\" ></th>        <th class=\"blank\" ></th>    </tr></thead><tbody>\n",
       "                <tr>\n",
       "                        <th id=\"T_79ca33fa_861e_11e9_a788_b8763fa85223level0_row0\" class=\"row_heading level0 row0\" >Oathbreaker, Last Hope of the Breaking Storm</th>\n",
       "                        <th id=\"T_79ca33fa_861e_11e9_a788_b8763fa85223level1_row0\" class=\"row_heading level1 row0\" >178</th>\n",
       "                        <td id=\"T_79ca33fa_861e_11e9_a788_b8763fa85223row0_col0\" class=\"data row0 col0\" >12</td>\n",
       "                        <td id=\"T_79ca33fa_861e_11e9_a788_b8763fa85223row0_col1\" class=\"data row0 col1\" >$4.23</td>\n",
       "                        <td id=\"T_79ca33fa_861e_11e9_a788_b8763fa85223row0_col2\" class=\"data row0 col2\" >$50.76</td>\n",
       "            </tr>\n",
       "            <tr>\n",
       "                        <th id=\"T_79ca33fa_861e_11e9_a788_b8763fa85223level0_row1\" class=\"row_heading level0 row1\" >Nirvana</th>\n",
       "                        <th id=\"T_79ca33fa_861e_11e9_a788_b8763fa85223level1_row1\" class=\"row_heading level1 row1\" >82</th>\n",
       "                        <td id=\"T_79ca33fa_861e_11e9_a788_b8763fa85223row1_col0\" class=\"data row1 col0\" >9</td>\n",
       "                        <td id=\"T_79ca33fa_861e_11e9_a788_b8763fa85223row1_col1\" class=\"data row1 col1\" >$4.90</td>\n",
       "                        <td id=\"T_79ca33fa_861e_11e9_a788_b8763fa85223row1_col2\" class=\"data row1 col2\" >$44.10</td>\n",
       "            </tr>\n",
       "            <tr>\n",
       "                        <th id=\"T_79ca33fa_861e_11e9_a788_b8763fa85223level0_row2\" class=\"row_heading level0 row2\" >Fiery Glass Crusader</th>\n",
       "                        <th id=\"T_79ca33fa_861e_11e9_a788_b8763fa85223level1_row2\" class=\"row_heading level1 row2\" >145</th>\n",
       "                        <td id=\"T_79ca33fa_861e_11e9_a788_b8763fa85223row2_col0\" class=\"data row2 col0\" >9</td>\n",
       "                        <td id=\"T_79ca33fa_861e_11e9_a788_b8763fa85223row2_col1\" class=\"data row2 col1\" >$4.58</td>\n",
       "                        <td id=\"T_79ca33fa_861e_11e9_a788_b8763fa85223row2_col2\" class=\"data row2 col2\" >$41.22</td>\n",
       "            </tr>\n",
       "            <tr>\n",
       "                        <th id=\"T_79ca33fa_861e_11e9_a788_b8763fa85223level0_row3\" class=\"row_heading level0 row3\" >Singed Scalpel</th>\n",
       "                        <th id=\"T_79ca33fa_861e_11e9_a788_b8763fa85223level1_row3\" class=\"row_heading level1 row3\" >103</th>\n",
       "                        <td id=\"T_79ca33fa_861e_11e9_a788_b8763fa85223row3_col0\" class=\"data row3 col0\" >8</td>\n",
       "                        <td id=\"T_79ca33fa_861e_11e9_a788_b8763fa85223row3_col1\" class=\"data row3 col1\" >$4.35</td>\n",
       "                        <td id=\"T_79ca33fa_861e_11e9_a788_b8763fa85223row3_col2\" class=\"data row3 col2\" >$34.80</td>\n",
       "            </tr>\n",
       "            <tr>\n",
       "                        <th id=\"T_79ca33fa_861e_11e9_a788_b8763fa85223level0_row4\" class=\"row_heading level0 row4\" >Lightning, Etcher of the King</th>\n",
       "                        <th id=\"T_79ca33fa_861e_11e9_a788_b8763fa85223level1_row4\" class=\"row_heading level1 row4\" >59</th>\n",
       "                        <td id=\"T_79ca33fa_861e_11e9_a788_b8763fa85223row4_col0\" class=\"data row4 col0\" >8</td>\n",
       "                        <td id=\"T_79ca33fa_861e_11e9_a788_b8763fa85223row4_col1\" class=\"data row4 col1\" >$4.23</td>\n",
       "                        <td id=\"T_79ca33fa_861e_11e9_a788_b8763fa85223row4_col2\" class=\"data row4 col2\" >$33.84</td>\n",
       "            </tr>\n",
       "    </tbody></table>"
      ],
      "text/plain": [
       "<pandas.io.formats.style.Styler at 0x26506e8dc18>"
      ]
     },
     "execution_count": 148,
     "metadata": {},
     "output_type": "execute_result"
    }
   ],
   "source": [
    "#Most Profitable Items\n",
    "\n",
    "#Sort the above table by total purchase value in descending order\n",
    "profit_items_final = prefinal_df.sort_values('Total Purchase Value', ascending=False).head()\n",
    "\n",
    "#Optional: give the displayed data cleaner formatting\n",
    "\n",
    "#Display a preview of the data frame\n",
    "profit_items_final.style.format({\"Item Price\": \"${:.2f}\", \"Total Purchase Value\": \"${:.2f}\"})"
   ]
  },
  {
   "cell_type": "code",
   "execution_count": 112,
   "metadata": {},
   "outputs": [
    {
     "name": "stdout",
     "output_type": "stream",
     "text": [
      "Final Summary\n"
     ]
    }
   ],
   "source": [
    "print(\"Final Summary\")"
   ]
  },
  {
   "cell_type": "code",
   "execution_count": null,
   "metadata": {},
   "outputs": [],
   "source": [
    "#FINAL SUMMARY\n"
   ]
  }
 ],
 "metadata": {
  "kernelspec": {
   "display_name": "Python 3",
   "language": "python",
   "name": "python3"
  },
  "language_info": {
   "codemirror_mode": {
    "name": "ipython",
    "version": 3
   },
   "file_extension": ".py",
   "mimetype": "text/x-python",
   "name": "python",
   "nbconvert_exporter": "python",
   "pygments_lexer": "ipython3",
   "version": "3.7.3"
  }
 },
 "nbformat": 4,
 "nbformat_minor": 2
}
